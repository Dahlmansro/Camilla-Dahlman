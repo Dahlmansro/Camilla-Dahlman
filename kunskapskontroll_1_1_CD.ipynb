{
 "cells": [
  {
   "cell_type": "markdown",
   "id": "dacf74e6",
   "metadata": {},
   "source": [
    "# NumPy"
   ]
  },
  {
   "cell_type": "markdown",
   "id": "01b2bf34",
   "metadata": {},
   "source": [
    "Read the links: https://numpy.org/doc/stable/user/quickstart.html  and https://numpy.org/doc/stable/user/basics.broadcasting.html  before solving the exercises. "
   ]
  },
  {
   "cell_type": "code",
   "execution_count": 115,
   "id": "1f79e4a6",
   "metadata": {},
   "outputs": [],
   "source": [
    "import numpy as np"
   ]
  },
  {
   "cell_type": "markdown",
   "id": "7dae6889",
   "metadata": {},
   "source": [
    "### Print out the dimension (number of axes), shape, size and the datatype of the matrix A."
   ]
  },
  {
   "cell_type": "code",
   "execution_count": 116,
   "id": "7b3678cd",
   "metadata": {},
   "outputs": [
    {
     "name": "stdout",
     "output_type": "stream",
     "text": [
      "[[ 1  2  3  4  5]\n",
      " [ 6  7  8  9 10]\n",
      " [11 12 13 14 15]]\n"
     ]
    }
   ],
   "source": [
    "A = np.arange(1, 16).reshape(3,5)\n",
    "print(A)"
   ]
  },
  {
   "cell_type": "code",
   "execution_count": 117,
   "id": "31d39235",
   "metadata": {},
   "outputs": [
    {
     "name": "stdout",
     "output_type": "stream",
     "text": [
      "dimension = 2\n",
      "shape =  (3, 5)\n",
      "size = 15\n",
      "datatype = int32\n"
     ]
    }
   ],
   "source": [
    "print(\"dimension =\", A.ndim)\n",
    "print(\"shape = \", A.shape)\n",
    "print(\"size =\", A.size)\n",
    "print(\"datatype =\", A.dtype)\n"
   ]
  },
  {
   "cell_type": "markdown",
   "id": "e56d2a96",
   "metadata": {},
   "source": [
    "### Do the following computations on the matrices B and C: \n",
    "* Elementwise subtraction. \n",
    "* Elementwise multiplication. \n",
    "* Matrix multiplication (by default you should use the @ operator)."
   ]
  },
  {
   "cell_type": "code",
   "execution_count": 118,
   "id": "a7053fbb",
   "metadata": {},
   "outputs": [
    {
     "name": "stdout",
     "output_type": "stream",
     "text": [
      "Matrix B:\n",
      "[[1 2 3]\n",
      " [4 5 6]\n",
      " [7 8 9]]\n",
      "\n",
      "\n",
      "Matrix C:\n",
      "[[2. 2. 2.]\n",
      " [2. 2. 2.]\n",
      " [2. 2. 2.]]\n",
      "\n"
     ]
    }
   ],
   "source": [
    "B = np.arange(1, 10).reshape(3, 3)\n",
    "C = np.ones((3, 3))*2\n",
    "\n",
    "print(f\"Matrix B:\\n{B}\\n\")\n",
    "print()\n",
    "print(f\"Matrix C:\\n{C}\\n\")"
   ]
  },
  {
   "cell_type": "code",
   "execution_count": 119,
   "id": "3cd794ae",
   "metadata": {},
   "outputs": [
    {
     "name": "stdout",
     "output_type": "stream",
     "text": [
      "Elementwise Subtraction (B - C):\n",
      "[[-1.  0.  1.]\n",
      " [ 2.  3.  4.]\n",
      " [ 5.  6.  7.]]\n",
      "\n",
      "Elementwise Multiplication (B * C):\n",
      "[[ 2.  4.  6.]\n",
      " [ 8. 10. 12.]\n",
      " [14. 16. 18.]]\n",
      "\n",
      "Matrix Multiplication (B @ C):\n",
      "[[12. 12. 12.]\n",
      " [30. 30. 30.]\n",
      " [48. 48. 48.]]\n"
     ]
    }
   ],
   "source": [
    "elementwise_subtraction = B - C\n",
    "print(f\"Elementwise Subtraction (B - C):\\n{elementwise_subtraction}\\n\")\n",
    "\n",
    "elementwise_multiplication = B * C\n",
    "print(f\"Elementwise Multiplication (B * C):\\n{elementwise_multiplication}\\n\")\n",
    "\n",
    "matrix_multiplication = B @ C\n",
    "print(f\"Matrix Multiplication (B @ C):\\n{matrix_multiplication}\")"
   ]
  },
  {
   "cell_type": "markdown",
   "id": "96030d53",
   "metadata": {},
   "source": [
    "### Do the following calculations on the matrix:\n",
    "* Exponentiate each number elementwise (use the np.exp function).\n",
    "\n",
    "* Calculate the minimum value in the whole matrix. \n",
    "* Calculcate the minimum value in each row. \n",
    "* Calculcate the minimum value in each column. \n",
    "\n",
    "\n",
    "* Find the index value for the minimum value in the whole matrix (hint: use np.argmin).\n",
    "* Find the index value for the minimum value in each row (hint: use np.argmin).\n",
    "\n",
    "\n",
    "* Calculate the sum for all elements.\n",
    "* Calculate the mean for each column. \n",
    "* Calculate the median for each column. "
   ]
  },
  {
   "cell_type": "code",
   "execution_count": 120,
   "id": "f8a9166b",
   "metadata": {},
   "outputs": [
    {
     "name": "stdout",
     "output_type": "stream",
     "text": [
      "Matrix B: \n",
      "[[1 2 3]\n",
      " [4 5 6]\n",
      " [7 8 9]]\n"
     ]
    }
   ],
   "source": [
    "B = np.arange(1, 10).reshape(3, 3)\n",
    "print(f'Matrix B: \\n{B}')"
   ]
  },
  {
   "cell_type": "code",
   "execution_count": 121,
   "id": "f03f24f7",
   "metadata": {},
   "outputs": [
    {
     "name": "stdout",
     "output_type": "stream",
     "text": [
      "Exponentierad matris B: \n",
      "[[2.71828183e+00 7.38905610e+00 2.00855369e+01]\n",
      " [5.45981500e+01 1.48413159e+02 4.03428793e+02]\n",
      " [1.09663316e+03 2.98095799e+03 8.10308393e+03]]\n",
      "\n",
      "Minsta värdet i hela matrisen: 1\n",
      "\n",
      "Minsta värdet i varje rad: [1 4 7]\n",
      "\n",
      "Minsta värdet i varje kolumn: [1 2 3]\n",
      "\n",
      "Index för det minsta värdet i hela matrisen: 0\n",
      "\n",
      "Index för det minsta värdet i varje rad: [0 0 0]\n",
      "\n",
      "Summan av alla element: 45\n",
      "\n",
      "Medelvärdet för varje kolumn: [4. 5. 6.]\n",
      "\n",
      "Medianen för varje kolumn: [4. 5. 6.]\n",
      "\n"
     ]
    }
   ],
   "source": [
    "import numpy as np\n",
    "\n",
    "\n",
    "# Exponentiera varje tal elementvis med np.exp\n",
    "exp_B = np.exp(B)\n",
    "print(f'Exponentierad matris B: \\n{exp_B}\\n')\n",
    "\n",
    "# Minsta värdet i hela matrisen\n",
    "min_value = np.min(B)\n",
    "print(f'Minsta värdet i hela matrisen: {min_value}\\n')\n",
    "\n",
    "# Minsta värdet i varje rad\n",
    "min_value_row = np.min(B, axis=1)\n",
    "print(f'Minsta värdet i varje rad: {min_value_row}\\n')\n",
    "\n",
    "# Minsta värdet i varje kolumn\n",
    "min_value_column = np.min(B, axis=0)\n",
    "print(f'Minsta värdet i varje kolumn: {min_value_column}\\n')\n",
    "\n",
    "# Indexet för det minsta värdet i hela matrisen\n",
    "min_index = np.argmin(B)\n",
    "print(f'Index för det minsta värdet i hela matrisen: {min_index}\\n')\n",
    "\n",
    "# Indexet för det minsta värdet i varje rad\n",
    "min_index_row = np.argmin(B, axis=1)\n",
    "print(f'Index för det minsta värdet i varje rad: {min_index_row}\\n')\n",
    "\n",
    "# Summan av alla element\n",
    "sum_B = np.sum(B)\n",
    "print(f'Summan av alla element: {sum_B}\\n')\n",
    "\n",
    "# Medelvärdet för varje kolumn\n",
    "mean_B_column = np.mean(B, axis=0)\n",
    "print(f'Medelvärdet för varje kolumn: {mean_B_column}\\n')\n",
    "\n",
    "# Medianen för varje kolumn\n",
    "median_B_column = np.median(B, axis=0)\n",
    "print(f'Medianen för varje kolumn: {median_B_column}\\n')\n"
   ]
  },
  {
   "cell_type": "markdown",
   "id": "541eb7ba",
   "metadata": {},
   "source": [
    "### What does it mean when you provide fewer indices than axes when slicing? See example below."
   ]
  },
  {
   "cell_type": "code",
   "execution_count": 122,
   "id": "9c8abf56",
   "metadata": {},
   "outputs": [
    {
     "name": "stdout",
     "output_type": "stream",
     "text": [
      "[[ 1  2  3  4  5]\n",
      " [ 6  7  8  9 10]\n",
      " [11 12 13 14 15]]\n"
     ]
    }
   ],
   "source": [
    "print(A)"
   ]
  },
  {
   "cell_type": "code",
   "execution_count": 123,
   "id": "69415f7b",
   "metadata": {},
   "outputs": [
    {
     "data": {
      "text/plain": [
       "array([ 6,  7,  8,  9, 10])"
      ]
     },
     "execution_count": 123,
     "metadata": {},
     "output_type": "execute_result"
    }
   ],
   "source": [
    "A[1]"
   ]
  },
  {
   "cell_type": "markdown",
   "id": "6c53541b",
   "metadata": {},
   "source": [
    "**Answer:**"
   ]
  },
  {
   "cell_type": "markdown",
   "id": "de01e120",
   "metadata": {},
   "source": [
    "Vid färre angivna index än det finns axlar kommer de saknade axlarna (saknade index) automatiskt fyllas ut med hela den delen (den eller de dimensioner) som inte specificerats."
   ]
  },
  {
   "cell_type": "markdown",
   "id": "6652d0c9",
   "metadata": {},
   "source": [
    "### Iterating over multidimensional arrays is done with respect to the first axis, so in the example below we iterate trough the rows. If you would like to iterate through the array *elementwise*, how would you do that?"
   ]
  },
  {
   "cell_type": "code",
   "execution_count": 124,
   "id": "9459864f",
   "metadata": {},
   "outputs": [
    {
     "data": {
      "text/plain": [
       "array([[ 1,  2,  3,  4,  5],\n",
       "       [ 6,  7,  8,  9, 10],\n",
       "       [11, 12, 13, 14, 15]])"
      ]
     },
     "execution_count": 124,
     "metadata": {},
     "output_type": "execute_result"
    }
   ],
   "source": [
    "A"
   ]
  },
  {
   "cell_type": "code",
   "execution_count": 125,
   "id": "a671bb5a",
   "metadata": {},
   "outputs": [
    {
     "name": "stdout",
     "output_type": "stream",
     "text": [
      "[1 2 3 4 5]\n",
      "[ 6  7  8  9 10]\n",
      "[11 12 13 14 15]\n"
     ]
    }
   ],
   "source": [
    "for i in A:\n",
    "    print(i)"
   ]
  },
  {
   "cell_type": "code",
   "execution_count": 126,
   "id": "f4e443a0",
   "metadata": {},
   "outputs": [
    {
     "name": "stdout",
     "output_type": "stream",
     "text": [
      "1\n",
      "2\n",
      "3\n",
      "4\n",
      "5\n",
      "6\n",
      "7\n",
      "8\n",
      "9\n",
      "10\n",
      "11\n",
      "12\n",
      "13\n",
      "14\n",
      "15\n"
     ]
    }
   ],
   "source": [
    "#Iterera elementwise\n",
    "\n",
    "for i in A.flat:\n",
    "    print(i)\n"
   ]
  },
  {
   "cell_type": "markdown",
   "id": "608a2583",
   "metadata": {},
   "source": [
    "### Explain what the code below does. More specifically, b has three axes - what does this mean? "
   ]
  },
  {
   "cell_type": "code",
   "execution_count": 127,
   "id": "f8f9b26f",
   "metadata": {},
   "outputs": [
    {
     "name": "stdout",
     "output_type": "stream",
     "text": [
      "[ 0  1  2  3  4  5  6  7  8  9 10 11 12 13 14 15 16 17 18 19 20 21 22 23\n",
      " 24 25 26 27 28 29]\n",
      "\n",
      "[[[ 0  1  2  3  4]\n",
      "  [ 5  6  7  8  9]\n",
      "  [10 11 12 13 14]]\n",
      "\n",
      " [[15 16 17 18 19]\n",
      "  [20 21 22 23 24]\n",
      "  [25 26 27 28 29]]]\n"
     ]
    }
   ],
   "source": [
    "a = np.arange(30)\n",
    "b = a.reshape((2, 3, -1))\n",
    "print(a)\n",
    "print()\n",
    "\n",
    "print(b)"
   ]
  },
  {
   "cell_type": "markdown",
   "id": "863a45df",
   "metadata": {},
   "source": [
    "a = np.arange(30) skapare en array från 0 till 29, dvs (30,)\n",
    "\n",
    "b = a.reshape((2, 3, -1)) omformar array a till en array med tre dimensioner (mot tidigare en dimension). \n",
    "\n",
    "Den första siffran (2) anger att jag vill skapa två sk block. \n",
    "\n",
    "Den andra siffran (3) anger antalet rader i varje block.\n",
    "\n",
    "Den tredje siffran (-1) gör att NumPy räknar ut den sista dimensionen baserat på det två övriga dimensionerna och storleken på min array. \n",
    "\n",
    "2 block a 3 rader = 6 rader. 30/6 = 5, dvs 5 tal (element) per rad"
   ]
  },
  {
   "cell_type": "markdown",
   "id": "ab5933d5",
   "metadata": {},
   "source": [
    "### Broadcasting\n",
    "**Read the following link about broadcasting: https://numpy.org/doc/stable/user/basics.broadcasting.html#basics-broadcasting**"
   ]
  },
  {
   "cell_type": "markdown",
   "id": "039805ba",
   "metadata": {},
   "source": [
    "# Remark on Broadcasting when doing Linear Algebra calculations in Python. "
   ]
  },
  {
   "cell_type": "markdown",
   "id": "c4bcc147",
   "metadata": {},
   "source": [
    "### From the mathematical rules of matrix addition, the operation below (m1 + m2) does not make sense. The reason is that matrix addition requires two matrices of the same size. In Python however, it works due to broadcasting rules in NumPy. So you must be careful when doing Linear Algebra calculations in Python since they do not follow the \"mathematical rules\". This can however easily be handled by doing some simple programming, for example validating that two matrices have the same shape is easy if you for instance want to add two matrices. "
   ]
  },
  {
   "cell_type": "code",
   "execution_count": 128,
   "id": "1fd46778",
   "metadata": {},
   "outputs": [
    {
     "name": "stdout",
     "output_type": "stream",
     "text": [
      "[[2 3]\n",
      " [4 5]]\n"
     ]
    }
   ],
   "source": [
    "m1 = np.array([[1, 2], [3, 4]])\n",
    "m2 = np.array([1, 1])\n",
    "print(m1 + m2)"
   ]
  },
  {
   "cell_type": "markdown",
   "id": "047d6576",
   "metadata": {},
   "source": [
    "### The example below would also not be allowed if following the \"mathematical rules\" in Linear Algebra. But it works due to broadcasting in NumPy. "
   ]
  },
  {
   "cell_type": "code",
   "execution_count": 129,
   "id": "5e6ef2e4",
   "metadata": {},
   "outputs": [
    {
     "name": "stdout",
     "output_type": "stream",
     "text": [
      "[2 3 4]\n"
     ]
    }
   ],
   "source": [
    "import numpy as np\n",
    "v1 = np.array([1, 2, 3])\n",
    "print(v1 + 1)"
   ]
  },
  {
   "cell_type": "code",
   "execution_count": 130,
   "id": "e2cbae26",
   "metadata": {},
   "outputs": [
    {
     "name": "stdout",
     "output_type": "stream",
     "text": [
      "[[1 2]\n",
      " [3 4]]\n",
      "[2 2]\n"
     ]
    }
   ],
   "source": [
    "A = np.arange(1, 5).reshape(2, 2)\n",
    "print(A)\n",
    "\n",
    "b = np.array([2, 2])\n",
    "print(b)"
   ]
  },
  {
   "cell_type": "markdown",
   "id": "722fd5cd",
   "metadata": {},
   "source": [
    "# Vector- and matrix algebra Exercises"
   ]
  },
  {
   "cell_type": "markdown",
   "id": "b63a3081-d976-4d9f-bfd0-a63917e79f7d",
   "metadata": {},
   "source": [
    "**Now you are going to create a function that can be reused every time you add or multiply matrices. The function is created so that we do the addition and multiplication according to the rules of vector- and matrix algebra.**\n",
    "\n",
    "**Create a function \"add_mult_matrices\" that takes two matrices as input arguments (validate that the input are of the type numpy.ndarray by using the isinstance function), a third argument that is either 'add' or 'multiply' that specifies if you want to add or multiply the matrices (validate that the third argument is either 'add' or 'multiply'). When doing matrix addition, validate that the matrices have the same size. When doing matrix multiplication, validate that the sizes conform (i.e. number of columns in the first matrix is equal to the number of rows in the second matrix).**"
   ]
  },
  {
   "cell_type": "code",
   "execution_count": 131,
   "id": "5be2bf09",
   "metadata": {},
   "outputs": [],
   "source": [
    "import numpy as np\n",
    "\n",
    "def add_mult_matrices(matrix1, matrix2, operation):\n",
    "\n",
    "    matrix1 = np.arrange('input tal').reshape()\n",
    "    matrix2 = np.arrange().reshape()\n",
    "\n",
    "    # Kontrollera att input är arrays\n",
    "    if not isinstance(matrix1, np.ndarray) or not isinstance(matrix2, np.ndarray):\n",
    "        raise TypeError(\"Båda matrix måste vara arrays\")\n",
    "    \n",
    "    # Kontrollera att operationen är korrekt\n",
    "    if operation not in ['add', 'multiply']:\n",
    "        raise ValueError(\"Operation måste vara 'add' eller 'multiply'\")\n",
    "    \n",
    "    # Lägg till eller multiplicera matrix\n",
    "    if operation == 'add':\n",
    "        if matrix1.shape != matrix2.shape:\n",
    "            raise ValueError(\"Matrices must have the same dimensions for addition\")\n",
    "        return matrix1 + matrix2\n",
    "    elif operation == 'multiply':\n",
    "        if matrix1.shape[1] != matrix2.shape[0]:\n",
    "            raise ValueError(\"Antalet kolumner i den första matrix måste vara samma som antalet rader i den andra matrix\")\n",
    "        return np.dot(matrix1, matrix2)   \n",
    "\n",
    "\n"
   ]
  },
  {
   "cell_type": "markdown",
   "id": "8dad82d0-2359-4dff-8f5b-a57d3e34103c",
   "metadata": {},
   "source": [
    "### Solve all the exercises in chapter 10.1 in the book \"Matematik för yrkeshögskolan\". "
   ]
  },
  {
   "cell_type": "code",
   "execution_count": 132,
   "id": "89df88af-3668-4d98-a0a4-e6d92eea0f89",
   "metadata": {},
   "outputs": [],
   "source": [
    "import numpy as np\n",
    "\n",
    "# UPPGIFT 10.1.1\n",
    "\n",
    "#Definiera vektorn x enligt nedan. \n",
    "x = (4, 3)\n",
    "\n",
    "# A Vilken dimension har vektorn?\n",
    "\n",
    "# Svar 1 x 2\n"
   ]
  },
  {
   "cell_type": "code",
   "execution_count": 133,
   "id": "65371610-16e1-48b2-b7fb-65e49002608a",
   "metadata": {},
   "outputs": [
    {
     "name": "stdout",
     "output_type": "stream",
     "text": [
      "[20 15]\n"
     ]
    }
   ],
   "source": [
    "# B Beräkna 5x\n",
    "\n",
    "x = np.array([4, 3])\n",
    "sum_b = x * 5\n",
    "print(sum_b)"
   ]
  },
  {
   "cell_type": "code",
   "execution_count": 134,
   "id": "a67aa477",
   "metadata": {},
   "outputs": [
    {
     "name": "stdout",
     "output_type": "stream",
     "text": [
      "[12  9]\n"
     ]
    }
   ],
   "source": [
    "# C Beräkna 3x\n",
    "sum_c = x * 3\n",
    "print(sum_c)\n"
   ]
  },
  {
   "cell_type": "code",
   "execution_count": 135,
   "id": "3f4f4f90",
   "metadata": {},
   "outputs": [
    {
     "name": "stdout",
     "output_type": "stream",
     "text": [
      "[32 24]\n"
     ]
    }
   ],
   "source": [
    "# D Beräkna 5x + 3x\n",
    "sum_d = (x * 5) +(x * 3)\n",
    "print(sum_d)"
   ]
  },
  {
   "cell_type": "code",
   "execution_count": 136,
   "id": "8feaa3f5",
   "metadata": {},
   "outputs": [
    {
     "name": "stdout",
     "output_type": "stream",
     "text": [
      "[32 24]\n"
     ]
    }
   ],
   "source": [
    "# E Beräkna 8x\n",
    "sum_e = (x * 8)\n",
    "print(sum_e)"
   ]
  },
  {
   "cell_type": "code",
   "execution_count": 137,
   "id": "1df83822",
   "metadata": {},
   "outputs": [
    {
     "name": "stdout",
     "output_type": "stream",
     "text": [
      "[12  9]\n"
     ]
    }
   ],
   "source": [
    "# F Beräkna 4x - x\n",
    "sum_f = x * 4 -x\n",
    "print(sum_f)"
   ]
  },
  {
   "cell_type": "code",
   "execution_count": 138,
   "id": "50e44a8c",
   "metadata": {},
   "outputs": [
    {
     "name": "stdout",
     "output_type": "stream",
     "text": [
      "[4 3]\n",
      "[[4]\n",
      " [3]]\n"
     ]
    }
   ],
   "source": [
    "# G Beräkna x^T\n",
    "\n",
    "transposed_vector = x.T\n",
    "print(transposed_vector)\n",
    "\n",
    "# Slutsats: Det blir ingen skillnad när man transponerar en endimnesionsvektor i NumPy. Vill man ändå ha 1 kolumn och två rader kan man använda reshape.\n",
    "\n",
    "reshaped_vector = x.reshape(2, 1)\n",
    "print(reshaped_vector)\n"
   ]
  },
  {
   "cell_type": "markdown",
   "id": "5ab8836a",
   "metadata": {},
   "source": [
    "H Är x + x^T definierat?\n",
    "\n",
    "Svar: Nej, om man transponerar x^T så kommer de två vektorerna att ha olika dimensioner."
   ]
  },
  {
   "cell_type": "code",
   "execution_count": 139,
   "id": "c385dae6",
   "metadata": {},
   "outputs": [
    {
     "name": "stdout",
     "output_type": "stream",
     "text": [
      "5.0\n"
     ]
    }
   ],
   "source": [
    "# I Beräkna ||x|| \n",
    "\n",
    "import math\n",
    "normen = math.sqrt(x[0]**2 + x[1]**2)\n",
    "print(normen)\n",
    "\n",
    "# Normen av en vektor x defineras enligt: ||x|| = sqrt(x^Tx)\n"
   ]
  },
  {
   "cell_type": "markdown",
   "id": "83ed70d8",
   "metadata": {},
   "source": [
    "# UPPGIFT 10.1.2\n",
    "\n",
    "Definiera vektor v enligt nedan. "
   ]
  },
  {
   "cell_type": "code",
   "execution_count": 140,
   "id": "5a067b17",
   "metadata": {},
   "outputs": [
    {
     "name": "stdout",
     "output_type": "stream",
     "text": [
      "[[ 3]\n",
      " [ 7]\n",
      " [ 0]\n",
      " [11]]\n"
     ]
    }
   ],
   "source": [
    "# A Vilken dimension har vektorn V?\n",
    "v = np.array([3, 7, 0, 11]).reshape(-1, 1)\n",
    "print(v)\n",
    "\n",
    "#Svar: 4 x 1\n"
   ]
  },
  {
   "cell_type": "code",
   "execution_count": 141,
   "id": "d5d55f8d",
   "metadata": {},
   "outputs": [
    {
     "name": "stdout",
     "output_type": "stream",
     "text": [
      "[[ 6]\n",
      " [14]\n",
      " [ 0]\n",
      " [22]]\n"
     ]
    }
   ],
   "source": [
    "# B Beräkna 2v\n",
    "sum_b = v * 2\n",
    "print(sum_b)"
   ]
  },
  {
   "cell_type": "code",
   "execution_count": 142,
   "id": "d3e9eb75",
   "metadata": {},
   "outputs": [
    {
     "name": "stdout",
     "output_type": "stream",
     "text": [
      "[[21]\n",
      " [49]\n",
      " [ 0]\n",
      " [77]]\n"
     ]
    }
   ],
   "source": [
    "# C Beräkna 5v + 2v\n",
    "sum_c = (v * 5) + (v * 2)\n",
    "print(sum_c)"
   ]
  },
  {
   "cell_type": "code",
   "execution_count": 143,
   "id": "5a1db5b9",
   "metadata": {},
   "outputs": [
    {
     "name": "stdout",
     "output_type": "stream",
     "text": [
      "[[ 6]\n",
      " [14]\n",
      " [ 0]\n",
      " [22]]\n"
     ]
    }
   ],
   "source": [
    "# D Beräkna 4v - 2v\n",
    "sum_d = (v * 4) - (v * 2)\n",
    "print(sum_d)"
   ]
  },
  {
   "cell_type": "markdown",
   "id": "b1368961",
   "metadata": {},
   "source": [
    "# E Beräkna V^T, vilken blir den nya dimensionen efter att transponeringen utförts?\n",
    "\n",
    "Svar: v^T = (3, 7, 0, 11)"
   ]
  },
  {
   "cell_type": "code",
   "execution_count": 144,
   "id": "8d66980a",
   "metadata": {},
   "outputs": [
    {
     "name": "stdout",
     "output_type": "stream",
     "text": [
      "13.379088160259652\n"
     ]
    }
   ],
   "source": [
    "# F Beräkna ||v|| \n",
    "\n",
    "import math\n",
    "v = [3, 7, 0, 11]\n",
    "normen = math.sqrt(v[0]**2 + v[1]**2 + v[2]**2 + v[3]**2)\n",
    "print(normen)"
   ]
  },
  {
   "cell_type": "markdown",
   "id": "7ea33fe0",
   "metadata": {},
   "source": [
    "# UPPGIFT 10.1.3\n",
    "\n",
    "Definiera vektorerna v_1 = [4, 3, 1, 5] och v_2 = [2, 3, 1, 1] "
   ]
  },
  {
   "cell_type": "code",
   "execution_count": 145,
   "id": "ae18e3bc",
   "metadata": {},
   "outputs": [
    {
     "name": "stdout",
     "output_type": "stream",
     "text": [
      "7.14142842854285\n"
     ]
    }
   ],
   "source": [
    "# A Beräkna ||v_1|| \n",
    "\n",
    "import math\n",
    "v_1 = [4, 3, 1, 5]\n",
    "normen = math.sqrt(v_1[0]**2 + v_1[1]**2 + v_1[2]**2 + v_1[3]**2)\n",
    "print(normen)"
   ]
  },
  {
   "cell_type": "code",
   "execution_count": 146,
   "id": "5ba5d8ae",
   "metadata": {},
   "outputs": [
    {
     "name": "stdout",
     "output_type": "stream",
     "text": [
      "4.47213595499958\n"
     ]
    }
   ],
   "source": [
    "# B Beräkna ||v_1 - v_2|| \n",
    "\n",
    "v_1 = np.array([4, 3, 1, 5])  \n",
    "v_2 = np.array([2, 3, 1, 1])\n",
    "\n",
    "skillnad = v_1 - v_2  # Subtrahera vektorerna elementvis\n",
    "\n",
    "normen = np.linalg.norm(skillnad)  # Beräkna normen av skillnaden\n",
    "print(normen)\n",
    "\n",
    "#Här använder jag funktionen linalg.norm i NumPy då vektorerna innehåller flertalet variabler."
   ]
  },
  {
   "cell_type": "markdown",
   "id": "142e6306",
   "metadata": {},
   "source": [
    "# UPPGIFT 10.2.1\n",
    "Definiera matriserna. Om det är definierat, utför följande beräkningar\n"
   ]
  },
  {
   "cell_type": "code",
   "execution_count": 147,
   "id": "c7899c58",
   "metadata": {},
   "outputs": [
    {
     "name": "stdout",
     "output_type": "stream",
     "text": [
      "Matris A =\n",
      " [[ 2  1 -1]\n",
      " [ 1 -1  1]]\n",
      "Summan =\n",
      " [[ 4  2 -2]\n",
      " [ 2 -2  2]]\n"
     ]
    }
   ],
   "source": [
    "# A (2A)\n",
    "\n",
    "A = [2, 1, -1, 1, -1, 1]\n",
    "matris_A = np.array(A).reshape(2, 3)\n",
    "sum_A = matris_A * 2\n",
    "print('Matris A =\\n', matris_A)\n",
    "print('Summan =\\n', sum_A)\n"
   ]
  },
  {
   "cell_type": "code",
   "execution_count": 148,
   "id": "f3208048",
   "metadata": {},
   "outputs": [
    {
     "name": "stdout",
     "output_type": "stream",
     "text": [
      "Båda matriserna är definierade och har samma form.\n",
      "Summan =\n",
      " [[ 0 -4  3]\n",
      " [ 0 -2 -4]]\n"
     ]
    }
   ],
   "source": [
    "# B (B-SA)\n",
    "import numpy as np\n",
    "\n",
    "B = [4, -2, 1, 2, -4, -2]\n",
    "matris_B = np.array(B).reshape(2, 3)\n",
    "\n",
    "try:\n",
    "    matris_A\n",
    "    matris_B\n",
    "    if matris_A.shape == matris_B.shape:\n",
    "        print(\"Båda matriserna är definierade och har samma form.\")\n",
    "        sum_B = matris_B - 2 * matris_A\n",
    "        print('Summan =\\n', sum_B)\n",
    "    else:\n",
    "        print(\"En eller båda matriserna är definierade, men de har inte samma form.\")\n",
    "except NameError:\n",
    "    print(\"En eller båda matriserna är inte definierade.\")\n"
   ]
  },
  {
   "cell_type": "code",
   "execution_count": 149,
   "id": "9c2c081e",
   "metadata": {},
   "outputs": [
    {
     "name": "stdout",
     "output_type": "stream",
     "text": [
      "En eller båda matriserna är definierade, men de har inte samma form.\n"
     ]
    }
   ],
   "source": [
    "# C (3C - 2E)\n",
    "\n",
    "C = [1, 2, 2, 1]\n",
    "matris_C = np.array(C).reshape(2, 2)\n",
    "\n",
    "E = [1, 2] \n",
    "matris_E = np.array(E).reshape(2, 1)  \n",
    "\n",
    "try:\n",
    "    matris_C\n",
    "    matris_E\n",
    "    if matris_C.shape == matris_E.shape:\n",
    "        print(\"Båda matriserna är definierade och har samma form.\")\n",
    "        \n",
    "        sum_C = matris_C * 3 - matris_E * 2\n",
    "        print('Summan =\\n', sum_C)\n",
    "    else:\n",
    "        print(\"En eller båda matriserna är definierade, men de har inte samma form.\")\n",
    "except NameError:\n",
    "    print(\"En eller båda matriserna är inte definierade.\")\n"
   ]
  },
  {
   "cell_type": "code",
   "execution_count": 150,
   "id": "374e2c88",
   "metadata": {},
   "outputs": [
    {
     "name": "stdout",
     "output_type": "stream",
     "text": [
      "Båda matriserna är definierade och har samma form.\n",
      "Resultatet av beräkningen (2D - 3C) =\n",
      " [[3 2]\n",
      " [2 3]]\n"
     ]
    }
   ],
   "source": [
    "# D (2D - 3C)\n",
    "\n",
    "D = [3, 4, 4, 3]\n",
    "matris_D = np.array(D).reshape(2, 2)\n",
    "try:\n",
    "    matris_D\n",
    "    matris_C\n",
    "    if matris_D.shape == matris_C.shape:\n",
    "        print(\"Båda matriserna är definierade och har samma form.\")\n",
    "        result = 2 * matris_D - 3 * matris_C\n",
    "        print('Resultatet av beräkningen (2D - 3C) =\\n', result)\n",
    "    else:\n",
    "        raise NameError(\"Dimensionerna matchar inte för matriserna D och C.\")\n",
    "except NameError:\n",
    "    print(\"En eller båda matriserna D och C är inte definierade, eller deras dimensioner matchar inte.\")\n",
    "\n",
    "\n"
   ]
  },
  {
   "cell_type": "code",
   "execution_count": 151,
   "id": "c1d59ce5",
   "metadata": {},
   "outputs": [
    {
     "name": "stdout",
     "output_type": "stream",
     "text": [
      "Båda matriserna är definierade och har samma form.\n",
      "Resultatet av beräkningen (D^T + 2D) =\n",
      " [[ 9 12]\n",
      " [12  9]]\n"
     ]
    }
   ],
   "source": [
    "# E (D^T + 2D)\n",
    "\n",
    "try:\n",
    "    matris_D\n",
    "    transpose_D = matris_D.T\n",
    "    \n",
    "    if transpose_D.shape == matris_D.shape:\n",
    "        print(\"Båda matriserna är definierade och har samma form.\")\n",
    "        # Beräkningen (D^T + 2D)\n",
    "        result = transpose_D + 2 * matris_D\n",
    "        print('Resultatet av beräkningen (D^T + 2D) =\\n', result)\n",
    "    else:\n",
    "        raise NameError(\"Dimensionerna matchar inte för matriserna D^T och D.\")\n",
    "except NameError:\n",
    "    print(\"Matris D är inte definierad, eller dess dimensioner matchar inte.\")\n"
   ]
  },
  {
   "cell_type": "code",
   "execution_count": 152,
   "id": "dfa0ef96",
   "metadata": {},
   "outputs": [
    {
     "name": "stdout",
     "output_type": "stream",
     "text": [
      "Båda matriserna är definierade och har samma form.\n",
      "Resultatet av beräkningen (2C^T - 2D^T) =\n",
      " [[-4 -4]\n",
      " [-4 -4]]\n"
     ]
    }
   ],
   "source": [
    "# F (2C^T - 2D^T)\n",
    "\n",
    "try:\n",
    "    matris_C\n",
    "    matris_D\n",
    "    transpose_C = matris_C.T\n",
    "    transpose_D = matris_D.T\n",
    "    \n",
    "    if transpose_C.shape == transpose_D.shape:\n",
    "        print(\"Båda matriserna är definierade och har samma form.\")\n",
    "        # Beräkningen (2C^T - 2D^T)\n",
    "        result = 2 * transpose_C - 2 * transpose_D\n",
    "        print('Resultatet av beräkningen (2C^T - 2D^T) =\\n', result)\n",
    "    else:\n",
    "        raise NameError(\"Dimensionerna matchar inte för matriserna C^T och D^T.\")\n",
    "except NameError:\n",
    "    print(\"En eller båda matriserna C och D är inte definierade, eller deras dimensioner matchar inte.\")"
   ]
  },
  {
   "cell_type": "code",
   "execution_count": 153,
   "id": "5023b419",
   "metadata": {},
   "outputs": [
    {
     "name": "stdout",
     "output_type": "stream",
     "text": [
      "En eller båda matriserna A och B är inte definierade, eller deras dimensioner matchar inte.\n"
     ]
    }
   ],
   "source": [
    "# G (A^T - B)\n",
    "\n",
    "try:\n",
    "    matris_A\n",
    "    matris_B\n",
    "    transpose_A = matris_A.T\n",
    "    if transpose_A.shape == matris_B.shape:\n",
    "        print(\"Båda matriserna är definierade och har samma form.\")\n",
    "        result = transpose_A - matris_B\n",
    "        print('Resultatet av beräkningen (A^T - B) =\\n', result)\n",
    "    else:\n",
    "        raise NameError(\"Dimensionerna matchar inte för matriserna A^T och B.\")\n",
    "except NameError:\n",
    "    print(\"En eller båda matriserna A och B är inte definierade, eller deras dimensioner matchar inte.\")"
   ]
  },
  {
   "cell_type": "code",
   "execution_count": 154,
   "id": "8f56ff25",
   "metadata": {},
   "outputs": [
    {
     "name": "stdout",
     "output_type": "stream",
     "text": [
      "En eller båda matriserna A och C är inte definierade, eller deras dimensioner matchar inte för multiplikation.\n"
     ]
    }
   ],
   "source": [
    "# H (AC)\n",
    "\n",
    "try:\n",
    "    matris_A\n",
    "    matris_C\n",
    "    if matris_A.shape[1] == matris_C.shape[0]:\n",
    "        print(\"Båda matriserna är definierade och har samma form.\")\n",
    "        result = np.dot(matris_A, matris_C)\n",
    "        print('Resultatet av beräkningen (A * C) =\\n', result)\n",
    "    else:\n",
    "        raise NameError(\"Dimensionerna matchar inte för att multiplicera matriserna A och C.\")\n",
    "except NameError:\n",
    "    print(\"En eller båda matriserna A och C är inte definierade, eller deras dimensioner matchar inte för multiplikation.\")\n"
   ]
  },
  {
   "cell_type": "code",
   "execution_count": 155,
   "id": "1a3706e0",
   "metadata": {},
   "outputs": [
    {
     "name": "stdout",
     "output_type": "stream",
     "text": [
      "Båda matriserna är definierade och har samma form.\n",
      "Resultatet av beräkningen (C * D) =\n",
      " [[11 10]\n",
      " [10 11]]\n"
     ]
    }
   ],
   "source": [
    "# I (CD)\n",
    "\n",
    "try:\n",
    "    matris_C\n",
    "    matris_D\n",
    "    if matris_C.shape[1] == matris_D.shape[0]:\n",
    "        print(\"Båda matriserna är definierade och har samma form.\")\n",
    "        result = np.dot(matris_C, matris_D)\n",
    "        print('Resultatet av beräkningen (C * D) =\\n', result)\n",
    "    else:\n",
    "        raise NameError(\"Dimensionerna matchar inte för att multiplicera matriserna C och D.\")\n",
    "except NameError:\n",
    "    print(\"En eller båda matriserna C och D är inte definierade, eller deras dimensioner matchar inte för multiplikation.\")\n"
   ]
  },
  {
   "cell_type": "code",
   "execution_count": 156,
   "id": "5d808a32",
   "metadata": {},
   "outputs": [
    {
     "name": "stdout",
     "output_type": "stream",
     "text": [
      "Båda matriserna är definierade och har samma form.\n",
      "Resultatet av beräkningen (C * B) =\n",
      " [[  8 -10  -3]\n",
      " [ 10  -8   0]]\n"
     ]
    }
   ],
   "source": [
    "# J (CB)\n",
    "\n",
    "try:\n",
    "    matris_C\n",
    "    matris_B\n",
    "    if matris_C.shape[1] == matris_B.shape[0]:\n",
    "        print(\"Båda matriserna är definierade och har samma form.\")\n",
    "        result = np.dot(matris_C, matris_B)\n",
    "        print('Resultatet av beräkningen (C * B) =\\n', result)\n",
    "    else:\n",
    "        raise NameError(\"Dimensionerna matchar inte för att multiplicera matriserna C och B.\")\n",
    "except NameError:\n",
    "    print(\"En eller båda matriserna C och B är inte definierade, eller deras dimensioner matchar inte för multiplikation.\")"
   ]
  },
  {
   "cell_type": "code",
   "execution_count": 157,
   "id": "19417cd8",
   "metadata": {},
   "outputs": [
    {
     "name": "stdout",
     "output_type": "stream",
     "text": [
      "En eller båda matriserna C och I är inte definierade, eller deras dimensioner matchar inte för multiplikation.\n"
     ]
    }
   ],
   "source": [
    "# K (CI)\n",
    "\n",
    "try:\n",
    "    matris_C\n",
    "    matris_I\n",
    "    if matris_C.shape[1] == matris_I.shape[0]:\n",
    "        print(\"Båda matriserna är definierade och har samma form.\")\n",
    "        result = np.dot(matris_C, matris_I)\n",
    "        print('Resultatet av beräkningen (C * I) =\\n', result)\n",
    "    else:\n",
    "        raise NameError(\"Dimensionerna matchar inte för att multiplicera matriserna C och I.\")\n",
    "except NameError:\n",
    "    print(\"En eller båda matriserna C och I är inte definierade, eller deras dimensioner matchar inte för multiplikation.\")"
   ]
  },
  {
   "cell_type": "code",
   "execution_count": 158,
   "id": "ae02ef14",
   "metadata": {},
   "outputs": [
    {
     "name": "stdout",
     "output_type": "stream",
     "text": [
      "Båda matriserna är definierade och har samma form.\n",
      "Resultatet av beräkningen (A * B^T) =\n",
      " [[5 2]\n",
      " [7 4]]\n"
     ]
    }
   ],
   "source": [
    "# L (AB^T)\n",
    "\n",
    "try:\n",
    "    matris_A\n",
    "    matris_B\n",
    "    transpose_B = matris_B.T\n",
    "    if matris_A.shape[1] == transpose_B.shape[0]:\n",
    "        print(\"Båda matriserna är definierade och har samma form.\")\n",
    "        result = np.dot(matris_A, transpose_B)\n",
    "        print('Resultatet av beräkningen (A * B^T) =\\n', result)\n",
    "    else:\n",
    "        raise NameError(\"Dimensionerna matchar inte för att multiplicera matriserna A och B^T.\")\n",
    "except NameError:\n",
    "    print(\"En eller båda matriserna A och B är inte definierade, eller deras dimensioner matchar inte för multiplikation.\")\n"
   ]
  },
  {
   "cell_type": "markdown",
   "id": "8027ab84",
   "metadata": {},
   "source": [
    "Uppgift 10.2.2 Definera matrinsen"
   ]
  },
  {
   "cell_type": "code",
   "execution_count": 159,
   "id": "0f88d8c4",
   "metadata": {},
   "outputs": [
    {
     "name": "stdout",
     "output_type": "stream",
     "text": [
      "Båda matriserna är definierade och har samma form.\n",
      "Resultatet av beräkningen (A * A^T) =\n",
      " [[29 26]\n",
      " [26 42]]\n"
     ]
    }
   ],
   "source": [
    "A = [2, 3, 4, 5, 4, 1]\n",
    "matris_A = np.array(A).reshape(2, 3)\n",
    "\n",
    "try:\n",
    "    matris_A\n",
    "    transpose_A = matris_A.T\n",
    "    if matris_A.shape[1] == transpose_A.shape[0]:\n",
    "        print(\"Båda matriserna är definierade och har samma form.\")\n",
    "        result = np.dot(matris_A, transpose_A)\n",
    "        print('Resultatet av beräkningen (A * A^T) =\\n', result)\n",
    "    else:\n",
    "        raise NameError(\"Dimensionerna matchar inte för att multiplicera matriserna A och A^T.\")\n",
    "except NameError:\n",
    "    print(\"Matris A är inte definierad, eller dess dimensioner matchar inte för multiplikation.\")\n",
    "\n",
    "#Beräkna AA^T"
   ]
  },
  {
   "cell_type": "markdown",
   "id": "75fa158a",
   "metadata": {},
   "source": [
    "Uppgift 10.2.3 Definera matrinserna och verifiera att AB = AC men att B != C"
   ]
  },
  {
   "cell_type": "code",
   "execution_count": 160,
   "id": "34d2c690",
   "metadata": {},
   "outputs": [
    {
     "name": "stdout",
     "output_type": "stream",
     "text": [
      "Matriserna A, B och C är definierade och har rätt form för multiplikation.\n",
      "Resultatet av beräkningen (A * B) =\n",
      " [[ 4  7]\n",
      " [10 15]]\n",
      "Resultatet av beräkningen (A * C) =\n",
      " [[ 4  7]\n",
      " [12 17]]\n",
      "AB är inte lika med AC.\n",
      "B är inte lika med C.\n"
     ]
    }
   ],
   "source": [
    "A = [1, 2, 3, 4]\n",
    "matris_A = np.array(A).reshape(2, 2)\n",
    "\n",
    "B = [2, 1, 1, 3]\n",
    "matris_B = np.array(B).reshape(2, 2)\n",
    "\n",
    "C = [4, 3, 0, 2]\n",
    "matris_C = np.array(C).reshape(2, 2)\n",
    "\n",
    "try:\n",
    "    matris_A\n",
    "    matris_B\n",
    "    matris_C\n",
    "    if matris_A.shape[1] == matris_B.shape[0] and matris_A.shape[1] == matris_C.shape[0]:\n",
    "        print(\"Matriserna A, B och C är definierade och har rätt form för multiplikation.\")\n",
    "        AB = np.dot(matris_A, matris_B)\n",
    "        AC = np.dot(matris_A, matris_C)\n",
    "        print('Resultatet av beräkningen (A * B) =\\n', AB)\n",
    "        print('Resultatet av beräkningen (A * C) =\\n', AC)\n",
    "\n",
    "        # Verifiera att AB = AC men B != C\n",
    "        if np.array_equal(AB, AC):\n",
    "            print(\"AB är lika med AC.\")\n",
    "        else:\n",
    "            print(\"AB är inte lika med AC.\")\n",
    "\n",
    "        if not np.array_equal(matris_B, matris_C):\n",
    "            print(\"B är inte lika med C.\")\n",
    "        else:\n",
    "            print(\"B är lika med C.\")\n",
    "    else:\n",
    "        raise NameError(\"Dimensionerna matchar inte för att multiplicera matriserna A med B eller C.\")\n",
    "except NameError:\n",
    "    print(\"En eller flera matriser är inte definierade, eller deras dimensioner matchar inte för multiplikation.\")"
   ]
  },
  {
   "cell_type": "markdown",
   "id": "6a4a524f",
   "metadata": {},
   "source": [
    "### Copies and Views\n",
    "Read the following link: https://numpy.org/doc/stable/user/basics.copies.html"
   ]
  },
  {
   "cell_type": "markdown",
   "id": "6cbbeaf7",
   "metadata": {},
   "source": [
    "**Basic indexing creates a view, How can you check if v1 and v2 is a view or copy? If you change the last element in v2 to 123, will the last element in v1 be changed? Why?**"
   ]
  },
  {
   "cell_type": "code",
   "execution_count": 161,
   "id": "5b9ef4df",
   "metadata": {},
   "outputs": [
    {
     "name": "stdout",
     "output_type": "stream",
     "text": [
      "[0 1 2 3]\n",
      "[2 3]\n",
      "True\n",
      "[  2 123]\n"
     ]
    }
   ],
   "source": [
    "import numpy as np\n",
    "v1 = np.arange(4)\n",
    "v2 = v1[-2:]\n",
    "print(v1)\n",
    "print(v2)\n",
    "print(v2.base is v1)\n",
    "v2[-1] = 123\n",
    "print(v2)\n",
    "\n"
   ]
  },
  {
   "cell_type": "code",
   "execution_count": 162,
   "id": "d2440489",
   "metadata": {},
   "outputs": [
    {
     "name": "stdout",
     "output_type": "stream",
     "text": [
      "None\n",
      "[  0   1   2 123]\n"
     ]
    }
   ],
   "source": [
    "# The base attribute of a view returns the original array while it returns None for a copy.\n",
    "print(v1.base)\n",
    "print(v2.base)"
   ]
  },
  {
   "cell_type": "code",
   "execution_count": 163,
   "id": "c8752807",
   "metadata": {},
   "outputs": [
    {
     "name": "stdout",
     "output_type": "stream",
     "text": [
      "[  0   1   2 123]\n",
      "[  2 123]\n"
     ]
    }
   ],
   "source": [
    "# The last element in v1 will be changed aswell since v2 is a view, meaning they share the same data buffer.\n",
    "v2[-1] = 123\n",
    "print(v1)\n",
    "print(v2)"
   ]
  }
 ],
 "metadata": {
  "kernelspec": {
   "display_name": "base",
   "language": "python",
   "name": "python3"
  },
  "language_info": {
   "codemirror_mode": {
    "name": "ipython",
    "version": 3
   },
   "file_extension": ".py",
   "mimetype": "text/x-python",
   "name": "python",
   "nbconvert_exporter": "python",
   "pygments_lexer": "ipython3",
   "version": "3.12.4"
  }
 },
 "nbformat": 4,
 "nbformat_minor": 5
}
