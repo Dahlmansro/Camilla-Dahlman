{
 "cells": [
  {
   "cell_type": "code",
   "execution_count": 13,
   "metadata": {},
   "outputs": [
    {
     "name": "stdout",
     "output_type": "stream",
     "text": [
      "Hej Anna, du är 30 år gammal.\n"
     ]
    }
   ],
   "source": [
    "def greet(name, age):\n",
    "    print(f\"Hej {name}, du är {age} år gammal.\")\n",
    "    \n",
    "greet(\"Anna\", 30)\n"
   ]
  },
  {
   "cell_type": "code",
   "execution_count": 18,
   "metadata": {},
   "outputs": [
    {
     "name": "stdout",
     "output_type": "stream",
     "text": [
      "8\n"
     ]
    }
   ],
   "source": [
    "def raise_to_power(value1, value2):\n",
    "    new_value = value1 ** value2\n",
    "    return new_value  # Returnerar resultatet från funktionen\n",
    "\n",
    "result = raise_to_power(2, 3)  # Funktionsanropet är nu utanför funktionen\n",
    "print(result)\n"
   ]
  },
  {
   "cell_type": "code",
   "execution_count": 31,
   "metadata": {},
   "outputs": [
    {
     "name": "stdout",
     "output_type": "stream",
     "text": [
      "a:positional\n",
      "Elements in args:\n",
      "4\n",
      "6\n",
      "3\n"
     ]
    }
   ],
   "source": [
    "def positional_argument_list(a, *args):\n",
    "    print(f'a:{a}')\n",
    "    print('Elements in args:')\n",
    "    for arg in args: \n",
    "        print(arg)\n",
    "\n",
    "positional_argument_list('positional', 4, 6, 3) \n",
    "    "
   ]
  },
  {
   "cell_type": "code",
   "execution_count": 28,
   "metadata": {},
   "outputs": [
    {
     "name": "stdout",
     "output_type": "stream",
     "text": [
      "a: positional\n",
      "Elements in args:\n",
      "4\n",
      "6\n",
      "3\n"
     ]
    }
   ],
   "source": [
    "def positional_argument_list(a, *args):\n",
    "    print(f'a: {a}')\n",
    "    print('Elements in args:')\n",
    "    for arg in args: \n",
    "        print(arg)\n",
    "\n",
    "# Funktionsanropet ska vara utanför funktionen\n",
    "positional_argument_list('positional', 4, 6, 3)\n"
   ]
  },
  {
   "cell_type": "code",
   "execution_count": 3,
   "metadata": {},
   "outputs": [
    {
     "name": "stdout",
     "output_type": "stream",
     "text": [
      "7\n"
     ]
    }
   ],
   "source": [
    "def find_max_value(numbers):\n",
    "    \"\"\"\n",
    "    Den här funktionen tar emot en lista med tal och returnerar det största talet i listan.\n",
    "    \n",
    "    Parameter:\n",
    "    numbers (list): En lista av numeriska värden.\n",
    "    \n",
    "    Returnerar:\n",
    "    int eller float: Det största talet i listan.\n",
    "    \"\"\"\n",
    "    return max(numbers)\n",
    "\n",
    "# Testa funktionen\n",
    "my_list = [2, 5, 7, 1]\n",
    "print(find_max_value(my_list))\n"
   ]
  },
  {
   "cell_type": "code",
   "execution_count": 8,
   "metadata": {},
   "outputs": [],
   "source": [
    "def my_decorator(func):\n",
    "    def wrapper():\n",
    "        print(\"Före funktionen körs\")\n",
    "        func()\n",
    "        print(\"Efter funktionen körs\")\n",
    "    return wrapper\n",
    "@my_decorator\n",
    "def say_hello():\n",
    "    print(\"Hej!\")"
   ]
  },
  {
   "cell_type": "code",
   "execution_count": 10,
   "metadata": {},
   "outputs": [
    {
     "data": {
      "text/plain": [
       "<function __main__.my_decorator(func)>"
      ]
     },
     "execution_count": 10,
     "metadata": {},
     "output_type": "execute_result"
    }
   ],
   "source": [
    "def my_decorator(func):\n",
    "    def wrapper():\n",
    "        print(\"Före funktionen körs\")\n",
    "        func()\n",
    "        print(\"Efter funktionen körs\")\n",
    "    return wrapper\n",
    "\n",
    "@my_decorator\n",
    "def say_hello():\n",
    "    print(\"Hej!\")\n",
    "\n",
    "# Anropa funktionen\n",
    "my_decorator\n"
   ]
  },
  {
   "cell_type": "code",
   "execution_count": 31,
   "metadata": {},
   "outputs": [
    {
     "name": "stdout",
     "output_type": "stream",
     "text": [
      "summan är 9\n"
     ]
    }
   ],
   "source": [
    "def add_two_numbers(a:int, b:int):\n",
    "    print('summan är', end=' ') \n",
    "    return a + b\n",
    "print(add_two_numbers(4, 5))"
   ]
  },
  {
   "cell_type": "code",
   "execution_count": 32,
   "metadata": {},
   "outputs": [],
   "source": [
    "    def __init__(self):\n",
    "        self.data = []\n",
    "    \n",
    "    def add_data(self, data):\n",
    "        if isinstance(data, list):\n",
    "            self.data.extend(data)\n",
    "        else:\n",
    "            # Code below raises an error if the data is not a list. Will be covered in chapter 8 of the book. \n",
    "            raise Exception('Only \"Lists\" are accepted as data.')  "
   ]
  },
  {
   "cell_type": "code",
   "execution_count": null,
   "metadata": {},
   "outputs": [],
   "source": []
  }
 ],
 "metadata": {
  "kernelspec": {
   "display_name": "base",
   "language": "python",
   "name": "python3"
  },
  "language_info": {
   "codemirror_mode": {
    "name": "ipython",
    "version": 3
   },
   "file_extension": ".py",
   "mimetype": "text/x-python",
   "name": "python",
   "nbconvert_exporter": "python",
   "pygments_lexer": "ipython3",
   "version": "3.12.4"
  }
 },
 "nbformat": 4,
 "nbformat_minor": 2
}
